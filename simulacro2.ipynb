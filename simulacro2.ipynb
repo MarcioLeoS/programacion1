{
 "cells": [
  {
   "cell_type": "code",
   "execution_count": null,
   "metadata": {
    "vscode": {
     "languageId": "plaintext"
    }
   },
   "outputs": [],
   "source": [
    "# Escribe un programa que solicite al usuario un número entero positivo y luego \n",
    "# calcule el factorial de ese número utilizando recursión. Debe manejar las siguientes excepciones:\n",
    "\n",
    "# Si el usuario ingresa un valor que no es un número entero, mostrar un mensaje de error e invitar al usuario a intentarlo de nuevo.\n",
    "# Si el usuario ingresa un número negativo, también mostrar un mensaje de error y pedir nuevamente el número.\n",
    "\n",
    "def factorial(n):\n",
    "    if n == 0:\n",
    "        return 1\n",
    "    else:\n",
    "        return factorial(n-1) * n\n",
    "    \n",
    "\n",
    "def main():\n",
    "    try:\n",
    "\n",
    "        while True:\n",
    "            numero = int(input('Ingrese un número entero positivo: '))\n",
    "\n",
    "            if numero < 0:\n",
    "                raise ValueError('El número debe ser positivo')\n",
    "            \n",
    "            else: \n",
    "                print(f'El factorial de {numero} es {factorial(numero)}')\n",
    "                break\n",
    "        \n",
    "    \n",
    "    except ValueError as e:\n",
    "        print(f'Error: {e}')\n",
    "    except Exception as e:\n",
    "        print(f'Error: {e}')\n",
    "main()"
   ]
  },
  {
   "cell_type": "code",
   "execution_count": null,
   "metadata": {
    "vscode": {
     "languageId": "plaintext"
    }
   },
   "outputs": [],
   "source": [
    "# Ejercicio 2: Matriz y Suma de Números Pares en Archivos CSV (Puntaje: 25%)\n",
    "# Crea una matriz de tamaño 4x5 con números aleatorios entre 1 y 100. Luego, guarda esta matriz en un archivo CSV. \n",
    "# A continuación, lee el archivo y calcula la suma de todos los números pares en la matriz. \n",
    "# Si el archivo no existe, el programa debe crear uno con la matriz generada."
   ]
  }
 ],
 "metadata": {
  "language_info": {
   "name": "python"
  }
 },
 "nbformat": 4,
 "nbformat_minor": 2
}
